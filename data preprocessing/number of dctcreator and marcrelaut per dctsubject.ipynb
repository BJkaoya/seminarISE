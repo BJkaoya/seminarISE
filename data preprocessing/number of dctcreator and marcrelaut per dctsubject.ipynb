{
 "cells": [
  {
   "cell_type": "code",
   "execution_count": null,
   "metadata": {},
   "outputs": [],
   "source": [
    "import numpy as np\n",
    "import pandas as pd\n",
    "import os\n",
    "import csv\n",
    "os.chdir(\"path\")"
   ]
  },
  {
   "cell_type": "code",
   "execution_count": null,
   "metadata": {
    "scrolled": true
   },
   "outputs": [],
   "source": [
    "dct1 = pd.read_csv('item_dctsubjectaa',delimiter=' ,,, ',error_bad_lines = False)\n",
    "dct1.columns = ['item', 'dctsubject']"
   ]
  },
  {
   "cell_type": "code",
   "execution_count": null,
   "metadata": {},
   "outputs": [],
   "source": [
    "dct2 = pd.read_csv('item_dctsubjectab',delimiter=' ,,, ',error_bad_lines = False)\n",
    "dct2.columns = ['item', 'dctsubject']"
   ]
  },
  {
   "cell_type": "code",
   "execution_count": null,
   "metadata": {},
   "outputs": [],
   "source": [
    "dct3 = pd.read_csv('item_dctsubjectac',delimiter=' ,,, ',error_bad_lines = False)\n",
    "dct3.columns = ['item', 'dctsubject']"
   ]
  },
  {
   "cell_type": "code",
   "execution_count": null,
   "metadata": {},
   "outputs": [],
   "source": [
    "cre = pd.read_csv('item_dctcreator.csv',delimiter=',')\n",
    "cre.columns = ['item', 'dctcreator']"
   ]
  },
  {
   "cell_type": "code",
   "execution_count": null,
   "metadata": {},
   "outputs": [],
   "source": [
    "aut = pd.read_csv('item_marcrelaut.csv',delimiter=',')\n",
    "aut.columns = ['item','marcrelaut']"
   ]
  },
  {
   "cell_type": "code",
   "execution_count": null,
   "metadata": {},
   "outputs": [],
   "source": [
    "dct1cre=dct1.merge(cre,left_on='item',right_on='item',how=\"outer\")\n",
    "dct1cre.drop(['item'], axis=1,inplace=True)\n",
    "dct1cre.dropna(inplace=True)\n",
    "dct1cre.drop_duplicates(inplace=True)\n",
    "dct1cre.to_csv('dct1cre.csv',index=False,header=False)"
   ]
  },
  {
   "cell_type": "code",
   "execution_count": null,
   "metadata": {},
   "outputs": [],
   "source": [
    "dct2cre=dct2.merge(cre,left_on='item',right_on='item',how=\"outer\")\n",
    "dct2cre.drop(['item'], axis=1,inplace=True)\n",
    "dct2cre.dropna(inplace=True)\n",
    "dct2cre.drop_duplicates(inplace=True)\n",
    "dct2cre.to_csv('dct2cre.csv',index=False,header=False)"
   ]
  },
  {
   "cell_type": "code",
   "execution_count": null,
   "metadata": {},
   "outputs": [],
   "source": [
    "dct3cre=dct3.merge(cre,left_on='item',right_on='item',how=\"outer\")\n",
    "dct3cre.drop(['item'], axis=1,inplace=True)\n",
    "dct3cre.dropna(inplace=True)\n",
    "dct3cre.drop_duplicates(inplace=True)\n",
    "dct3cre.to_csv('dct3cre.csv',index=False,header=False)"
   ]
  },
  {
   "cell_type": "code",
   "execution_count": null,
   "metadata": {},
   "outputs": [],
   "source": [
    "dct1aut=dct1.merge(aut,left_on='item',right_on='item',how=\"outer\")\n",
    "dct1aut.drop(['item'], axis=1,inplace=True)\n",
    "dct1aut.dropna(inplace=True)\n",
    "dct1aut.drop_duplicates(inplace=True)\n",
    "dct1aut.to_csv('dct1aut.csv',index=False,header=False)"
   ]
  },
  {
   "cell_type": "code",
   "execution_count": null,
   "metadata": {},
   "outputs": [],
   "source": [
    "dct2aut=dct1.merge(aut,left_on='item',right_on='item',how=\"outer\")\n",
    "dct2aut.drop(['item'], axis=1,inplace=True)\n",
    "dct2aut.dropna(inplace=True)\n",
    "dct2aut.drop_duplicates(inplace=True)\n",
    "dct2aut.to_csv('dct2aut.csv',index=False,header=False)"
   ]
  },
  {
   "cell_type": "code",
   "execution_count": null,
   "metadata": {},
   "outputs": [],
   "source": [
    "dct3aut=dct3.merge(aut,left_on='item',right_on='item',how=\"outer\")\n",
    "dct3aut.drop(['item'], axis=1,inplace=True)\n",
    "dct3aut.dropna(inplace=True)\n",
    "dct3aut.drop_duplicates(inplace=True)\n",
    "dct3aut.to_csv('dct3aut.csv',index=False,header=False)"
   ]
  },
  {
   "cell_type": "code",
   "execution_count": null,
   "metadata": {},
   "outputs": [],
   "source": [
    "dctcre=pd.concat([dct1cre,dct2cre,dct3cre])"
   ]
  },
  {
   "cell_type": "code",
   "execution_count": null,
   "metadata": {},
   "outputs": [],
   "source": [
    "dctcre.drop_duplicates(inplace=True)"
   ]
  },
  {
   "cell_type": "code",
   "execution_count": null,
   "metadata": {},
   "outputs": [],
   "source": [
    "cre_per_dct=dctcre['dctsubject'].value_counts().to_frame(name='number of dctcreator per dctsubject')"
   ]
  },
  {
   "cell_type": "code",
   "execution_count": null,
   "metadata": {},
   "outputs": [],
   "source": [
    "cre_per_dct['dctsubject'] = cre_per_dct.index\n",
    "cre_per_dct=cre_per_dct[['dctsubject','number of dctcreator per dctsubject']]"
   ]
  },
  {
   "cell_type": "code",
   "execution_count": null,
   "metadata": {},
   "outputs": [],
   "source": [
    "cre_per_dct.to_csv('cre_per_dct.csv',index=0)"
   ]
  },
  {
   "cell_type": "code",
   "execution_count": null,
   "metadata": {},
   "outputs": [],
   "source": [
    "dctaut=pd.concat([dct1aut,dct2aut,dct3aut])\n",
    "dctaut.drop_duplicates(inplace=True)\n",
    "aut_per_dct=dctaut['dctsubject'].value_counts().to_frame(name='number of marcrelaut per dctsubject')\n",
    "aut_per_dct['dctsubject'] = aut_per_dct.index\n",
    "aut_per_dct=aut_per_dct[['dctsubject','number of marcrelaut per dctsubject']]\n",
    "aut_per_dct.to_csv('aut_per_dct.csv',index=0)"
   ]
  },
  {
   "cell_type": "code",
   "execution_count": null,
   "metadata": {},
   "outputs": [],
   "source": [
    "aut_per_dct"
   ]
  },
  {
   "cell_type": "code",
   "execution_count": null,
   "metadata": {},
   "outputs": [],
   "source": []
  }
 ],
 "metadata": {
  "kernelspec": {
   "display_name": "Python 3",
   "language": "python",
   "name": "python3"
  },
  "language_info": {
   "codemirror_mode": {
    "name": "ipython",
    "version": 3
   },
   "file_extension": ".py",
   "mimetype": "text/x-python",
   "name": "python",
   "nbconvert_exporter": "python",
   "pygments_lexer": "ipython3",
   "version": "3.6.5"
  },
  "toc": {
   "base_numbering": 1,
   "nav_menu": {},
   "number_sections": true,
   "sideBar": true,
   "skip_h1_title": false,
   "title_cell": "Table of Contents",
   "title_sidebar": "Contents",
   "toc_cell": false,
   "toc_position": {},
   "toc_section_display": true,
   "toc_window_display": false
  }
 },
 "nbformat": 4,
 "nbformat_minor": 2
}
