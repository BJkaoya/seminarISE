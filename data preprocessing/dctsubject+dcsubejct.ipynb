{
 "cells": [
  {
   "cell_type": "code",
   "execution_count": null,
   "metadata": {},
   "outputs": [],
   "source": [
    "import numpy as np\n",
    "import pandas as pd\n",
    "import os\n",
    "import csv"
   ]
  },
  {
   "cell_type": "code",
   "execution_count": null,
   "metadata": {},
   "outputs": [],
   "source": [
    "os.chdir(\"/Users/dongxinyuan/Desktop/datapretest\")"
   ]
  },
  {
   "cell_type": "code",
   "execution_count": null,
   "metadata": {},
   "outputs": [],
   "source": [
    "dct = pd.read_csv('dctsubject_count.csv',delimiter=',dct:subject,',header=None)\n",
    "dct.columns = ['number', 'dctsubject']\n",
    "dct.head()"
   ]
  },
  {
   "cell_type": "code",
   "execution_count": null,
   "metadata": {},
   "outputs": [],
   "source": [
    "dct['dctsubject'].value_counts()"
   ]
  },
  {
   "cell_type": "markdown",
   "metadata": {},
   "source": [
    "The next step checks the duplicate subjects in the 'dctsubject' column.  \n",
    "Although we already count the uniq lines in the bash/shell command, there are still duplicate subjects.  \n",
    "After checking the original file, we found out the problem is caused by different numbers of white spaces.  \n",
    "For example,  \n",
    "        dct:subject     &nbsp;&nbsp;               <http://d-nb.info/gnd/4035964-5> ;  \n",
    "        dct:subject        &nbsp;        <http://d-nb.info/gnd/4035964-5> ;  \n",
    "It will be considered different lines.  \n",
    "To deal with this problem, we use 'groupby' on the 'dctsubject' column and sum the 'number' column.  "
   ]
  },
  {
   "cell_type": "code",
   "execution_count": null,
   "metadata": {},
   "outputs": [],
   "source": [
    "dct = dct.groupby(['dctsubject'], as_index=False)['number'].sum()\n",
    "dct = dct.sort_values(by='number',ascending = False)\n",
    "dct.to_csv('dctsubject.csv',index=0)"
   ]
  },
  {
   "cell_type": "code",
   "execution_count": null,
   "metadata": {},
   "outputs": [],
   "source": [
    "dc = pd.read_csv('dcsubject_count.csv',delimiter=',dc:subject,',header=None)\n",
    "dc.columns = ['number', 'dcsubject']\n",
    "dc.head()"
   ]
  },
  {
   "cell_type": "code",
   "execution_count": null,
   "metadata": {},
   "outputs": [],
   "source": [
    "dc['dcsubject'].value_counts()"
   ]
  },
  {
   "cell_type": "code",
   "execution_count": null,
   "metadata": {},
   "outputs": [],
   "source": [
    "dc = dc.groupby(['dcsubject'], as_index=False)['number'].sum()\n",
    "dc = dc.sort_values(by='number',ascending = False)\n",
    "dc.to_csv('dcsubject.csv',index=0)"
   ]
  },
  {
   "cell_type": "code",
   "execution_count": null,
   "metadata": {},
   "outputs": [],
   "source": []
  },
  {
   "cell_type": "code",
   "execution_count": null,
   "metadata": {},
   "outputs": [],
   "source": []
  }
 ],
 "metadata": {
  "kernelspec": {
   "display_name": "Python 3",
   "language": "python",
   "name": "python3"
  },
  "language_info": {
   "codemirror_mode": {
    "name": "ipython",
    "version": 3
   },
   "file_extension": ".py",
   "mimetype": "text/x-python",
   "name": "python",
   "nbconvert_exporter": "python",
   "pygments_lexer": "ipython3",
   "version": "3.6.5"
  },
  "toc": {
   "base_numbering": 1,
   "nav_menu": {},
   "number_sections": true,
   "sideBar": true,
   "skip_h1_title": false,
   "title_cell": "Table of Contents",
   "title_sidebar": "Contents",
   "toc_cell": false,
   "toc_position": {},
   "toc_section_display": true,
   "toc_window_display": false
  }
 },
 "nbformat": 4,
 "nbformat_minor": 2
}
