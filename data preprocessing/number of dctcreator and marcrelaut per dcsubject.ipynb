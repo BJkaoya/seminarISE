{
 "cells": [
  {
   "cell_type": "code",
   "execution_count": null,
   "metadata": {},
   "outputs": [],
   "source": [
    "import numpy as np\n",
    "import pandas as pd\n",
    "import os\n",
    "import csv\n",
    "os.chdir(\"path\")"
   ]
  },
  {
   "cell_type": "code",
   "execution_count": null,
   "metadata": {},
   "outputs": [],
   "source": [
    "dc1 = pd.read_csv('item_dcsubjectaa',delimiter=' ,,, ',error_bad_lines = False)\n",
    "dc1.columns = ['item', 'dcsubject']"
   ]
  },
  {
   "cell_type": "code",
   "execution_count": null,
   "metadata": {},
   "outputs": [],
   "source": [
    "dc2 = pd.read_csv('item_dcsubjectab',delimiter=' ,,, ',error_bad_lines = False)\n",
    "dc2.columns = ['item', 'dcsubject']"
   ]
  },
  {
   "cell_type": "code",
   "execution_count": null,
   "metadata": {},
   "outputs": [],
   "source": [
    "dc3 = pd.read_csv('item_dcsubjectac',delimiter=' ,,, ',error_bad_lines = False)\n",
    "dc3.columns = ['item', 'dcsubject']"
   ]
  },
  {
   "cell_type": "code",
   "execution_count": null,
   "metadata": {},
   "outputs": [],
   "source": [
    "cre = pd.read_csv('item_dctcreator.csv',delimiter=',')\n",
    "cre.columns = ['item', 'dctcreator']"
   ]
  },
  {
   "cell_type": "code",
   "execution_count": null,
   "metadata": {},
   "outputs": [],
   "source": [
    "aut = pd.read_csv('item_marcrelaut.csv',delimiter=',')\n",
    "aut.columns = ['item','marcrelaut']"
   ]
  },
  {
   "cell_type": "code",
   "execution_count": null,
   "metadata": {},
   "outputs": [],
   "source": [
    "#merge dc1 with cre on 'item'\n",
    "dc1cre=dc1.merge(cre,left_on='item',right_on='item',how=\"outer\")\n",
    "#drop 'item' column, the dc1cre contains two columns, namely 'dcsubject' and 'dctcreator'\n",
    "dc1cre.drop(['item'], axis=1,inplace=True)\n",
    "#drop NaNs\n",
    "dc1cre.dropna(inplace=True)\n",
    "#drop duplicate rows\n",
    "dc1cre.drop_duplicates(inplace=True)\n",
    "#save output\n",
    "dc1cre.to_csv('dc1cre.csv',index=False,header=False)"
   ]
  },
  {
   "cell_type": "code",
   "execution_count": null,
   "metadata": {},
   "outputs": [],
   "source": [
    "dc2cre=dc2.merge(cre,left_on='item',right_on='item',how=\"outer\")\n",
    "dc2cre.drop(['item'], axis=1,inplace=True)\n",
    "dc2cre.dropna(inplace=True)\n",
    "dc2cre.drop_duplicates(inplace=True)\n",
    "dc2cre.to_csv('dc2cre.csv',index=False,header=False)"
   ]
  },
  {
   "cell_type": "code",
   "execution_count": null,
   "metadata": {},
   "outputs": [],
   "source": [
    "dc3cre=dc3.merge(cre,left_on='item',right_on='item',how=\"outer\")\n",
    "dc3cre.drop(['item'], axis=1,inplace=True)\n",
    "dc3cre.dropna(inplace=True)\n",
    "dc3cre.drop_duplicates(inplace=True)\n",
    "dc3cre.to_csv('dc3cre.csv',index=False,header=False)"
   ]
  },
  {
   "cell_type": "code",
   "execution_count": null,
   "metadata": {},
   "outputs": [],
   "source": [
    "dc1aut=dc1.merge(aut,left_on='item',right_on='item',how=\"outer\")\n",
    "dc1aut.drop(['item'], axis=1,inplace=True)\n",
    "dc1aut.dropna(inplace=True)\n",
    "dc1aut.drop_duplicates(inplace=True)\n",
    "dc1aut.to_csv('dc1aut.csv',index=False,header=False)"
   ]
  },
  {
   "cell_type": "code",
   "execution_count": null,
   "metadata": {},
   "outputs": [],
   "source": [
    "dc2aut=dc2.merge(aut,left_on='item',right_on='item',how=\"outer\")\n",
    "dc2aut.drop(['item'], axis=1,inplace=True)\n",
    "dc2aut.dropna(inplace=True)\n",
    "dc2aut.drop_duplicates(inplace=True)\n",
    "dc2aut.to_csv('dc2aut.csv',index=False,header=False)"
   ]
  },
  {
   "cell_type": "code",
   "execution_count": null,
   "metadata": {},
   "outputs": [],
   "source": [
    "dc3aut=dc3.merge(aut,left_on='item',right_on='item',how=\"outer\")\n",
    "dc3aut.drop(['item'], axis=1,inplace=True)\n",
    "dc3aut.dropna(inplace=True)\n",
    "dc3aut.drop_duplicates(inplace=True)\n",
    "dc3aut.to_csv('dc3aut.csv',index=False,header=False)"
   ]
  },
  {
   "cell_type": "code",
   "execution_count": null,
   "metadata": {},
   "outputs": [],
   "source": [
    "#concat three outputs\n",
    "dccre=pd.concat([dc1cre,dc2cre,dc3cre])\n",
    "dccre.drop_duplicates(inplace=True)\n",
    "#count the number of distinct dctcreators per dcsubject,save as a column in cre_per_dc\n",
    "cre_per_dc=dccre['dcsubject'].value_counts().to_frame(name='number of dctcreator per dcsubject')\n",
    "cre_per_dc['dcsubject'] = cre_per_dc.index\n",
    "cre_per_dc=cre_per_dc[['dcsubject','number of dctcreator per dcsubject']]\n",
    "cre_per_dc.to_csv('cre_per_dc.csv',index=0)"
   ]
  },
  {
   "cell_type": "code",
   "execution_count": null,
   "metadata": {},
   "outputs": [],
   "source": [
    "dcaut=pd.concat([dc1aut,dc2aut,dc3aut])\n",
    "dcaut.drop_duplicates(inplace=True)\n",
    "aut_per_dc=dcaut['dcsubject'].value_counts().to_frame(name='number of marcrelaut per dcsubject')\n",
    "aut_per_dc['dcsubject'] = aut_per_dc.index\n",
    "aut_per_dc=aut_per_dc[['dcsubject','number of marcrelaut per dcsubject']]\n",
    "aut_per_dc.to_csv('aut_per_dc.csv',index=0)"
   ]
  },
  {
   "cell_type": "code",
   "execution_count": null,
   "metadata": {},
   "outputs": [],
   "source": [
    "aut_per_dc"
   ]
  },
  {
   "cell_type": "code",
   "execution_count": null,
   "metadata": {},
   "outputs": [],
   "source": []
  }
 ],
 "metadata": {
  "kernelspec": {
   "display_name": "Python 3",
   "language": "python",
   "name": "python3"
  },
  "language_info": {
   "codemirror_mode": {
    "name": "ipython",
    "version": 3
   },
   "file_extension": ".py",
   "mimetype": "text/x-python",
   "name": "python",
   "nbconvert_exporter": "python",
   "pygments_lexer": "ipython3",
   "version": "3.6.5"
  },
  "toc": {
   "base_numbering": 1,
   "nav_menu": {},
   "number_sections": true,
   "sideBar": true,
   "skip_h1_title": false,
   "title_cell": "Table of Contents",
   "title_sidebar": "Contents",
   "toc_cell": false,
   "toc_position": {},
   "toc_section_display": true,
   "toc_window_display": false
  }
 },
 "nbformat": 4,
 "nbformat_minor": 2
}
